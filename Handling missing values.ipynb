{
 "cells": [
  {
   "cell_type": "code",
   "execution_count": 1,
   "id": "0d5a3162-4be9-42e0-8fca-ce01a45107b4",
   "metadata": {},
   "outputs": [
    {
     "name": "stdout",
     "output_type": "stream",
     "text": [
      "[1.  2.5 nan 4.1 nan 6. ]\n"
     ]
    }
   ],
   "source": [
    "# Create a NumPy array:\n",
    "# [1.0, 2.5, np.nan, 4.1, np.nan, 6.0]\n",
    "import numpy as np\n",
    "arr = np.array([1.0, 2.5, np.nan, 4.1, np.nan, 6.0])\n",
    "print(arr)"
   ]
  },
  {
   "cell_type": "code",
   "execution_count": 2,
   "id": "ed9e6fca-1e87-458c-a2b0-11443b162ff4",
   "metadata": {},
   "outputs": [
    {
     "name": "stdout",
     "output_type": "stream",
     "text": [
      "[1.  2.5 nan 4.1 nan 6. ]\n"
     ]
    }
   ],
   "source": [
    "# Check and print which values in the array are NaN.\n",
    "import numpy as np\n",
    "arr = np.array([1.0, 2.5, np.nan, 4.1, np.nan, 6.0])\n",
    "print(arr)"
   ]
  },
  {
   "cell_type": "code",
   "execution_count": 3,
   "id": "a94dfca8-7b52-4d68-860f-6475feff1b08",
   "metadata": {},
   "outputs": [
    {
     "name": "stdout",
     "output_type": "stream",
     "text": [
      "2\n"
     ]
    }
   ],
   "source": [
    "# Count the total number of NaN values in the array.\n",
    "# [1.0, 2.5, np.nan, 4.1, np.nan, 6.0]\n",
    "arr = np.array([1.0, 2.5, np.nan, 4.1, np.nan, 6.0])\n",
    "count = np.isnan(arr).sum()\n",
    "print(count)"
   ]
  },
  {
   "cell_type": "code",
   "execution_count": 4,
   "id": "fe88ae24-aed5-4d73-abdb-14c80e81bca1",
   "metadata": {},
   "outputs": [
    {
     "name": "stdout",
     "output_type": "stream",
     "text": [
      "[1.  2.5 0.  4.1 0.  6. ]\n"
     ]
    }
   ],
   "source": [
    "# Replace all NaN values with 0.\n",
    "# [1.0, 2.5, np.nan, 4.1, np.nan, 6.0]\n",
    "import numpy as np\n",
    "arr = np.array([1.0, 2.5, np.nan, 4.1, np.nan, 6.0])\n",
    "arr[np.isnan(arr)] = 0\n",
    "print(arr)"
   ]
  },
  {
   "cell_type": "code",
   "execution_count": 5,
   "id": "8edf1744-0d02-401e-9622-a698786603d9",
   "metadata": {},
   "outputs": [
    {
     "name": "stdout",
     "output_type": "stream",
     "text": [
      "[1.  2.5 4.1 6. ]\n"
     ]
    }
   ],
   "source": [
    "# Remove all NaN values and print the cleaned array.\n",
    "import numpy as np\n",
    "arr = np.array([1.0, 2.5, np.nan, 4.1, np.nan, 6.0])\n",
    "cleaned_array = arr[~np.isnan(arr)] \n",
    "print(cleaned_array)"
   ]
  },
  {
   "cell_type": "code",
   "execution_count": 6,
   "id": "6c5b4fb1-eb75-4be3-a5db-e32bfebb90c1",
   "metadata": {},
   "outputs": [
    {
     "name": "stdout",
     "output_type": "stream",
     "text": [
      "[[ 1.  2. -1.]\n",
      " [ 4. -1.  6.]\n",
      " [ 7.  8.  9.]]\n"
     ]
    }
   ],
   "source": [
    "# Create a 2D array like this:\n",
    "# [[1, 2, np.nan],\n",
    "#  # [4, np.nan, 6],\n",
    "#  [7, 8, 9]]\n",
    "# Replace all NaN values with -1.\n",
    "import numpy as np\n",
    "arr = np.array([[1, 2, np.nan],\n",
    "                [4, np.nan, 6],\n",
    "                [7, 8, 9]])\n",
    "arr[np.isnan(arr)] = -1\n",
    "print(arr)"
   ]
  },
  {
   "cell_type": "code",
   "execution_count": 7,
   "id": "a3b5e049-737f-4116-9c7f-3ab93ab8f182",
   "metadata": {},
   "outputs": [
    {
     "name": "stdout",
     "output_type": "stream",
     "text": [
      "[1 1 0]\n"
     ]
    }
   ],
   "source": [
    "# Count how many NaN values are in each row of the above 2D array\n",
    "arr = np.array([[1, 2, np.nan],\n",
    "                [4, np.nan, 6],\n",
    "                [7, 8, 9]])\n",
    "count = np.isnan(arr).sum(axis=1)\n",
    "print(count)"
   ]
  },
  {
   "cell_type": "code",
   "execution_count": 8,
   "id": "ee4f909d-bd6d-4001-a474-9a6f4203272b",
   "metadata": {},
   "outputs": [
    {
     "name": "stdout",
     "output_type": "stream",
     "text": [
      "[1.  2.5 3.3 4.1 3.3 6. ]\n"
     ]
    }
   ],
   "source": [
    "# Replace all NaN values with the median of the non-NaN values.\n",
    "import numpy as np\n",
    "arr = np.array([1.0, 2.5, np.nan, 4.1, np.nan, 6.0])\n",
    "median_val = np.nanmedian(arr)\n",
    "arr[np.isnan(arr)] = median_val\n",
    "print(arr)"
   ]
  },
  {
   "cell_type": "code",
   "execution_count": 9,
   "id": "8593d486-c3d3-47ca-bf0f-1af595af59d3",
   "metadata": {},
   "outputs": [
    {
     "name": "stdout",
     "output_type": "stream",
     "text": [
      "[1.  2.5 3.4 4.1 3.4 6. ]\n"
     ]
    }
   ],
   "source": [
    "# Replace all NaN values with the mean of the array (excluding NaN).\n",
    "import numpy as np\n",
    "arr = np.array([1.0, 2.5, np.nan, 4.1, np.nan, 6.0])\n",
    "mean_val = np.nanmean(arr)\n",
    "arr[np.isnan(arr)] = mean_val\n",
    "print(arr)"
   ]
  },
  {
   "cell_type": "code",
   "execution_count": 10,
   "id": "13c113af-ee0f-44b9-b519-c6b80a2111aa",
   "metadata": {},
   "outputs": [
    {
     "name": "stdout",
     "output_type": "stream",
     "text": [
      "[ 5.  0. 15. 20.  0. 30.]\n"
     ]
    }
   ],
   "source": [
    "# Create a NumPy array with values [5, np.nan, 15, 20, np.nan, 30].\n",
    "# Replace all NaN values with 0.\n",
    "import numpy as np\n",
    "arr = np.array([5, np.nan, 15, 20, np.nan, 30])\n",
    "arr[np.isnan(arr)] = 0\n",
    "print(arr)"
   ]
  },
  {
   "cell_type": "code",
   "execution_count": 11,
   "id": "2d87e920-add2-49ad-97f2-a5bbc37b7125",
   "metadata": {},
   "outputs": [
    {
     "name": "stdout",
     "output_type": "stream",
     "text": [
      "[ 5.4  8.6  9.4  8.4  nan  nan 15.6  nan]\n",
      "[ 5.4  8.6  9.4  8.4 15.6]\n"
     ]
    }
   ],
   "source": [
    "# Create a NumPy array with 8 float values including 3 NaNs.\n",
    "# Remove all NaN values and print the cleaned array.\n",
    "import numpy as np\n",
    "arr = np.array([5.4, 8.6, 9.4, 8.4, np.nan, np.nan, 15.6, np.nan])\n",
    "print(arr)\n",
    "cleaned_array = arr[~np.isnan(arr)]\n",
    "print(cleaned_array)"
   ]
  },
  {
   "cell_type": "code",
   "execution_count": 12,
   "id": "f634749f-6265-4944-bd38-75e10d9a82a0",
   "metadata": {},
   "outputs": [
    {
     "name": "stdout",
     "output_type": "stream",
     "text": [
      "[2.   4.5  5.25 6.   8.5 ]\n"
     ]
    }
   ],
   "source": [
    "# Given an array [2.0, 4.5, np.nan, 6.0, 8.5],\n",
    "# replace NaN with the mean of non-NaN values.\n",
    "import numpy as np\n",
    "arr = np.array([2.0, 4.5, np.nan, 6.0, 8.5])\n",
    "mean_val = np.nanmean(arr)\n",
    "arr[np.isnan(arr)] = mean_val\n",
    "print(arr)"
   ]
  },
  {
   "cell_type": "code",
   "execution_count": 13,
   "id": "9d55b315-813d-4890-aebd-d426eaf0619d",
   "metadata": {},
   "outputs": [
    {
     "name": "stdout",
     "output_type": "stream",
     "text": [
      "[[  1.   2. -99.]\n",
      " [  4. -99.   6.]\n",
      " [  7.   8.   9.]]\n"
     ]
    }
   ],
   "source": [
    "# Create a 2D array with 2 NaNs.\n",
    "# Replace all NaN values with -99.\n",
    "import numpy as np\n",
    "arr = np.array([[1, 2, np.nan],\n",
    "                [4, np.nan, 6],\n",
    "                [7, 8, 9]])\n",
    "nan_value = np.isnan(arr)\n",
    "arr[np.isnan(arr)] = -99\n",
    "print(arr)"
   ]
  },
  {
   "cell_type": "code",
   "execution_count": 14,
   "id": "3f4b0c8d-dfc9-4b9c-9129-bba02798643e",
   "metadata": {},
   "outputs": [
    {
     "name": "stdout",
     "output_type": "stream",
     "text": [
      "2\n"
     ]
    }
   ],
   "source": [
    "# Count the total number of NaN values in a 1D array.\n",
    "import numpy as np\n",
    "arr = np.array([1.0, 2.5, np.nan, 4.1, np.nan, 6.0])\n",
    "count = np.isnan(arr).sum()\n",
    "print(count)"
   ]
  },
  {
   "cell_type": "code",
   "execution_count": 15,
   "id": "176cd057-b880-4c51-829a-41329a92afd0",
   "metadata": {},
   "outputs": [
    {
     "name": "stdout",
     "output_type": "stream",
     "text": [
      "[2 1 0]\n"
     ]
    }
   ],
   "source": [
    "# Count the number of NaN values in each row of a 3x3 array.\n",
    "import numpy as np\n",
    "arr = np.array([[np.nan,2,np.nan],\n",
    "               [4,5,np.nan],\n",
    "               [7,8,9]])\n",
    "count = np.isnan(arr).sum(axis=1)\n",
    "print(count)"
   ]
  },
  {
   "cell_type": "code",
   "execution_count": 16,
   "id": "acaccd06-7904-4bf9-8f65-3dc2ca3a4169",
   "metadata": {},
   "outputs": [
    {
     "name": "stdout",
     "output_type": "stream",
     "text": [
      "[[5.5 2.  5. ]\n",
      " [4.  5.  9. ]\n",
      " [7.  8.  9. ]]\n"
     ]
    }
   ],
   "source": [
    "# Given a 2D array with NaN values,\n",
    "# replace each NaN with the mean of its column.\n",
    "import numpy as np\n",
    "arr = np.array([[np.nan,2,np.nan],\n",
    "               [4,5,np.nan],\n",
    "               [7,8,9]])\n",
    "nan_with_mean = np.nanmean(arr,axis=0)\n",
    "arr[np.isnan(arr)] = nan_with_mean\n",
    "print(arr)"
   ]
  },
  {
   "cell_type": "code",
   "execution_count": 17,
   "id": "de2f24a6-8d24-4857-8f53-218c3677b094",
   "metadata": {},
   "outputs": [
    {
     "name": "stdout",
     "output_type": "stream",
     "text": [
      "[[5.5 2.  9. ]\n",
      " [4.  5.  9. ]\n",
      " [7.  8.  9. ]]\n"
     ]
    }
   ],
   "source": [
    "# Given a 2D array with NaN values,\n",
    "# replace each NaN with the mean of its column.\n",
    "import numpy as np\n",
    "arr = np.array([[np.nan,2,np.nan],\n",
    "               [4,5,np.nan],\n",
    "               [7,8,9]])\n",
    "mean_val = np.nanmean(arr, axis=0)\n",
    "for i in range(arr.shape[1]):\n",
    "    arr[np.isnan(arr[:,i]),i] = mean_val[i]\n",
    "print(arr)"
   ]
  },
  {
   "cell_type": "code",
   "execution_count": 18,
   "id": "d1d986e3-c76a-405c-83b9-0f14253b675d",
   "metadata": {},
   "outputs": [
    {
     "name": "stdout",
     "output_type": "stream",
     "text": [
      "[[ 1.  2.  7.  4.]\n",
      " [ 5.  6.  7.  8.]\n",
      " [ 9. 10.  7. 12.]]\n"
     ]
    }
   ],
   "source": [
    "# Given a 3×4 array, replace each NaN with the median of that column.\n",
    "import numpy as np\n",
    "arr = np.array([[1,2,np.nan,4],\n",
    "               [np.nan,np.nan,7,8],\n",
    "               [9,10,np.nan,12]])\n",
    "med_value = np.nanmedian(arr,axis=0)\n",
    "for i in range(arr.shape[1]):\n",
    "    arr[np.isnan(arr[:,i]),i] = med_value[i]\n",
    "print(arr)"
   ]
  },
  {
   "cell_type": "code",
   "execution_count": null,
   "id": "6e183ef3-ade3-41c7-ae86-7879ab549ecc",
   "metadata": {},
   "outputs": [],
   "source": []
  }
 ],
 "metadata": {
  "kernelspec": {
   "display_name": "Python 3 (ipykernel)",
   "language": "python",
   "name": "python3"
  },
  "language_info": {
   "codemirror_mode": {
    "name": "ipython",
    "version": 3
   },
   "file_extension": ".py",
   "mimetype": "text/x-python",
   "name": "python",
   "nbconvert_exporter": "python",
   "pygments_lexer": "ipython3",
   "version": "3.12.7"
  }
 },
 "nbformat": 4,
 "nbformat_minor": 5
}
